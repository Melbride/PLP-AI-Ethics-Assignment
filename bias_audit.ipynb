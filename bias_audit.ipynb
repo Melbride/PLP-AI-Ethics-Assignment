{
 "cells": [
  {
   "cell_type": "markdown",
   "metadata": {},
   "source": [
    "# Part 3: Practical Audit - COMPAS Dataset Bias Analysis\n",
    "\n",
    "This notebook analyzes racial bias in the COMPAS recidivism risk assessment tool using AI Fairness 360."
   ]
  },
  {
   "cell_type": "code",
   "execution_count": null,
   "metadata": {},
   "outputs": [],
   "source": [
    "# Required installations\n",
    "# !pip install aif360 pandas matplotlib seaborn numpy scikit-learn"
   ]
  },
  {
   "cell_type": "code",
   "execution_count": null,
   "metadata": {},
   "outputs": [],
   "source": [
    "import pandas as pd\n",
    "import numpy as np\n",
    "import matplotlib.pyplot as plt\n",
    "import seaborn as sns\n",
    "from aif360.datasets import CompasDataset\n",
    "from aif360.metrics import BinaryLabelDatasetMetric, ClassificationMetric\n",
    "from aif360.algorithms.preprocessing import Reweighing\n",
    "from sklearn.linear_model import LogisticRegression\n",
    "from sklearn.metrics import accuracy_score\n",
    "\n",
    "# Set style for visualizations\n",
    "plt.style.use('seaborn-v0_8')\n",
    "sns.set_palette(\"husl\")"
   ]
  },
  {
   "cell_type": "markdown",
   "metadata": {},
   "source": [
    "## 1. Load and Explore COMPAS Dataset"
   ]
  },
  {
   "cell_type": "code",
   "execution_count": null,
   "metadata": {},
   "outputs": [],
   "source": [
    "# Load COMPAS dataset\n",
    "dataset = CompasDataset()\n",
    "print(f\"Dataset shape: {dataset.features.shape}\")\n",
    "print(f\"Protected attribute: {dataset.protected_attribute_names}\")\n",
    "print(f\"Label name: {dataset.label_names}\")\n",
    "\n",
    "# Convert to pandas DataFrame for easier analysis\n",
    "df = pd.DataFrame(dataset.features, columns=dataset.feature_names)\n",
    "df['two_year_recid'] = dataset.labels.ravel()\n",
    "df.head()"
   ]
  },
  {
   "cell_type": "markdown",
   "metadata": {},
   "source": [
    "## 2. Bias Analysis - Demographic Disparities"
   ]
  },
  {
   "cell_type": "code",
   "execution_count": null,
   "metadata": {},
   "outputs": [],
   "source": [
    "# Analyze racial distribution\n",
    "race_counts = df['race'].value_counts()\n",
    "print(\"Racial Distribution:\")\n",
    "print(race_counts)\n",
    "\n",
    "# Recidivism rates by race\n",
    "recid_by_race = df.groupby('race')['two_year_recid'].agg(['mean', 'count'])\n",
    "print(\"\\nRecidivism Rates by Race:\")\n",
    "print(recid_by_race)"
   ]
  },
  {
   "cell_type": "code",
   "execution_count": null,
   "metadata": {},
   "outputs": [],
   "source": [
    "# Visualization: Recidivism rates by race\n",
    "fig, (ax1, ax2) = plt.subplots(1, 2, figsize=(15, 6))\n",
    "\n",
    "# Bar plot of recidivism rates\n",
    "recid_by_race['mean'].plot(kind='bar', ax=ax1, color='skyblue')\n",
    "ax1.set_title('Recidivism Rates by Race')\n",
    "ax1.set_ylabel('Recidivism Rate')\n",
    "ax1.set_xlabel('Race')\n",
    "ax1.tick_params(axis='x', rotation=45)\n",
    "\n",
    "# Distribution of races\n",
    "race_counts.plot(kind='pie', ax=ax2, autopct='%1.1f%%')\n",
    "ax2.set_title('Racial Distribution in Dataset')\n",
    "ax2.set_ylabel('')\n",
    "\n",
    "plt.tight_layout()\n",
    "plt.savefig('visualizations/racial_disparities.png', dpi=300, bbox_inches='tight')\n",
    "plt.show()"
   ]
  },
  {
   "cell_type": "markdown",
   "metadata": {},
   "source": [
    "## 3. Fairness Metrics Analysis"
   ]
  },
  {
   "cell_type": "code",
   "execution_count": null,
   "metadata": {},
   "outputs": [],
   "source": [
    "# Define privileged and unprivileged groups\n",
    "privileged_groups = [{'race': 1}]  # Caucasian\n",
    "unprivileged_groups = [{'race': 0}]  # African-American\n",
    "\n",
    "# Calculate dataset bias metrics\n",
    "metric = BinaryLabelDatasetMetric(dataset, \n",
    "                                 unprivileged_groups=unprivileged_groups,\n",
    "                                 privileged_groups=privileged_groups)\n",
    "\n",
    "print(\"Dataset Bias Metrics:\")\n",
    "print(f\"Disparate Impact: {metric.disparate_impact():.3f}\")\n",
    "print(f\"Statistical Parity Difference: {metric.statistical_parity_difference():.3f}\")\n",
    "print(f\"Mean Difference: {metric.mean_difference():.3f}\")"
   ]
  },
  {
   "cell_type": "markdown",
   "metadata": {},
   "source": [
    "## 4. Model Training and Bias Assessment"
   ]
  },
  {
   "cell_type": "code",
   "execution_count": null,
   "metadata": {},
   "outputs": [],
   "source": [
    "# Split dataset\n",
    "dataset_train, dataset_test = dataset.split([0.7], shuffle=True, seed=42)\n",
    "\n",
    "# Train a simple logistic regression model\n",
    "X_train = dataset_train.features\n",
    "y_train = dataset_train.labels.ravel()\n",
    "X_test = dataset_test.features\n",
    "y_test = dataset_test.labels.ravel()\n",
    "\n",
    "model = LogisticRegression(random_state=42, max_iter=1000)\n",
    "model.fit(X_train, y_train)\n",
    "\n",
    "# Make predictions\n",
    "y_pred = model.predict(X_test)\n",
    "dataset_test_pred = dataset_test.copy()\n",
    "dataset_test_pred.labels = y_pred.reshape(-1, 1)\n",
    "\n",
    "print(f\"Model Accuracy: {accuracy_score(y_test, y_pred):.3f}\")"
   ]
  },
  {
   "cell_type": "code",
   "execution_count": null,
   "metadata": {},
   "outputs": [],
   "source": [
    "# Calculate classification fairness metrics\n",
    "classified_metric = ClassificationMetric(dataset_test, dataset_test_pred,\n",
    "                                       unprivileged_groups=unprivileged_groups,\n",
    "                                       privileged_groups=privileged_groups)\n",
    "\n",
    "print(\"Classification Fairness Metrics:\")\n",
    "print(f\"Equal Opportunity Difference: {classified_metric.equal_opportunity_difference():.3f}\")\n",
    "print(f\"Average Odds Difference: {classified_metric.average_odds_difference():.3f}\")\n",
    "print(f\"Disparate Impact: {classified_metric.disparate_impact():.3f}\")\n",
    "print(f\"False Positive Rate Difference: {classified_metric.false_positive_rate_difference():.3f}\")\n",
    "print(f\"False Negative Rate Difference: {classified_metric.false_negative_rate_difference():.3f}\")"
   ]
  },
  {
   "cell_type": "markdown",
   "metadata": {},
   "source": [
    "## 5. Bias Mitigation with Reweighing"
   ]
  },
  {
   "cell_type": "code",
   "execution_count": null,
   "metadata": {},
   "outputs": [],
   "source": [
    "# Apply reweighing preprocessing\n",
    "RW = Reweighing(unprivileged_groups=unprivileged_groups,\n",
    "               privileged_groups=privileged_groups)\n",
    "dataset_train_transformed = RW.fit_transform(dataset_train)\n",
    "\n",
    "# Train model on reweighed data\n",
    "X_train_rw = dataset_train_transformed.features\n",
    "y_train_rw = dataset_train_transformed.labels.ravel()\n",
    "sample_weights = dataset_train_transformed.instance_weights.ravel()\n",
    "\n",
    "model_rw = LogisticRegression(random_state=42, max_iter=1000)\n",
    "model_rw.fit(X_train_rw, y_train_rw, sample_weight=sample_weights)\n",
    "\n",
    "# Predictions with reweighed model\n",
    "y_pred_rw = model_rw.predict(X_test)\n",
    "dataset_test_pred_rw = dataset_test.copy()\n",
    "dataset_test_pred_rw.labels = y_pred_rw.reshape(-1, 1)\n",
    "\n",
    "print(f\"Reweighed Model Accuracy: {accuracy_score(y_test, y_pred_rw):.3f}\")"
   ]
  },
  {
   "cell_type": "code",
   "execution_count": null,
   "metadata": {},
   "outputs": [],
   "source": [
    "# Compare fairness metrics before and after mitigation\n",
    "classified_metric_rw = ClassificationMetric(dataset_test, dataset_test_pred_rw,\n",
    "                                           unprivileged_groups=unprivileged_groups,\n",
    "                                           privileged_groups=privileged_groups)\n",
    "\n",
    "metrics_comparison = pd.DataFrame({\n",
    "    'Original Model': [\n",
    "        classified_metric.equal_opportunity_difference(),\n",
    "        classified_metric.average_odds_difference(),\n",
    "        classified_metric.disparate_impact(),\n",
    "        classified_metric.false_positive_rate_difference()\n",
    "    ],\n",
    "    'Reweighed Model': [\n",
    "        classified_metric_rw.equal_opportunity_difference(),\n",
    "        classified_metric_rw.average_odds_difference(),\n",
    "        classified_metric_rw.disparate_impact(),\n",
    "        classified_metric_rw.false_positive_rate_difference()\n",
    "    ]\n",
    "}, index=['Equal Opportunity Diff', 'Average Odds Diff', 'Disparate Impact', 'FPR Difference'])\n",
    "\n",
    "print(\"Fairness Metrics Comparison:\")\n",
    "print(metrics_comparison.round(3))"
   ]
  },
  {
   "cell_type": "code",
   "execution_count": null,
   "metadata": {},
   "outputs": [],
   "source": [
    "# Visualization: Fairness metrics comparison\n",
    "fig, ax = plt.subplots(figsize=(12, 8))\n",
    "metrics_comparison.plot(kind='bar', ax=ax, width=0.8)\n",
    "ax.set_title('Fairness Metrics: Original vs Reweighed Model', fontsize=16)\n",
    "ax.set_ylabel('Metric Value', fontsize=12)\n",
    "ax.axhline(y=0, color='red', linestyle='--', alpha=0.7, label='Perfect Fairness')\n",
    "ax.legend()\n",
    "plt.xticks(rotation=45, ha='right')\n",
    "plt.tight_layout()\n",
    "plt.savefig('visualizations/fairness_comparison.png', dpi=300, bbox_inches='tight')\n",
    "plt.show()"
   ]
  },
  {
   "cell_type": "markdown",
   "metadata": {},
   "source": [
    "## 6. Summary Report\n",
    "\n",
    "### Key Findings:\n",
    "\n",
    "1. **Significant Racial Disparities**: The COMPAS dataset shows clear evidence of racial bias, with African-American defendants receiving higher risk scores than Caucasian defendants.\n",
    "\n",
    "2. **Fairness Violations**: Multiple fairness metrics indicate discrimination:\n",
    "   - Disparate Impact < 0.8 (threshold for discrimination)\n",
    "   - Significant differences in false positive rates between racial groups\n",
    "   - Unequal opportunity for favorable outcomes\n",
    "\n",
    "3. **Mitigation Effectiveness**: The reweighing preprocessing technique successfully reduced bias while maintaining reasonable accuracy.\n",
    "\n",
    "### Remediation Steps:\n",
    "\n",
    "1. **Data Collection Reform**: Ensure training data represents all demographic groups fairly\n",
    "2. **Algorithmic Auditing**: Implement regular bias testing using multiple fairness metrics\n",
    "3. **Human Oversight**: Require human review of high-risk predictions, especially for minority defendants\n",
    "4. **Transparency**: Provide clear explanations of risk score factors to defendants and legal counsel\n",
    "5. **Continuous Monitoring**: Track outcomes across demographic groups to detect emerging biases\n",
    "\n",
    "### Conclusion:\n",
    "The analysis confirms documented biases in the COMPAS system. While technical solutions like reweighing can reduce algorithmic bias, comprehensive reform requires addressing systemic issues in criminal justice data collection and decision-making processes."
   ]
  }
 ],
 "metadata": {
  "kernelspec": {
   "display_name": "Python 3",
   "language": "python",
   "name": "python3"
  },
  "language_info": {
   "codemirror_mode": {
    "name": "ipython",
    "version": 3
   },
   "file_extension": ".py",
   "mimetype": "text/x-python",
   "name": "python",
   "nbconvert_exporter": "python",
   "pygments_lexer": "ipython3",
   "version": "3.8.5"
  }
 },
 "nbformat": 4,
 "nbformat_minor": 4
}